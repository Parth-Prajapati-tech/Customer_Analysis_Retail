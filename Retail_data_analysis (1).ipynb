{
 "cells": [
  {
   "cell_type": "markdown",
   "id": "c37cda9a-ec76-429a-a698-23624ab5dbf3",
   "metadata": {},
   "source": [
    "Business Problem :\n",
    "\n",
    " A Retail store is required to analyze the day to day transactions and keep track of its customers spread across various location along with their purchases/returns across various categories.\n",
    "\n",
    "\n",
    " Create a report and display the below calculated merices, reports and interference. "
   ]
  },
  {
   "cell_type": "code",
   "execution_count": 324,
   "id": "9d322664-8e0b-4d46-b137-d81985ec537f",
   "metadata": {},
   "outputs": [],
   "source": [
    "import pandas as pd\n",
    "import numpy as np\n",
    "import datetime as dt\n",
    "import matplotlib.pyplot as plt\n",
    "%matplotlib inline\n",
    "import seaborn as sns\n",
    "import warnings\n",
    "warnings.filterwarnings('ignore')"
   ]
  },
  {
   "cell_type": "code",
   "execution_count": 325,
   "id": "0c00c533-b197-48d7-90b7-621153c8c3d9",
   "metadata": {},
   "outputs": [],
   "source": [
    "Cust_df = pd.read_csv('C://Users//Om Computers//Desktop//Projects//Python for Analytics - Projects_//Python for Analytics - Projects_Parth//Retail Case Study//Customer.csv')\n",
    "Product_cat_df = pd.read_csv('C://Users//Om Computers//Desktop//Projects//Python for Analytics - Projects_//Python for Analytics - Projects_Parth//Retail Case Study//prod_cat_info.csv')                       \n",
    "Transaction_df = pd.read_csv('C://Users//Om Computers//Desktop//Projects//Python for Analytics - Projects_//Python for Analytics - Projects_Parth//Retail Case Study//Transactions.csv')"
   ]
  },
  {
   "cell_type": "markdown",
   "id": "0d15c6cc-ff76-4301-826d-403b00be1b8e",
   "metadata": {},
   "source": [
    "1. Merge the datasets Customers, Product hirerachy and Transactions as Customer_Final.\n",
    "    Ensure to keep all Customers who have doen transactions with us and select the join type accordingly"
   ]
  },
  {
   "cell_type": "code",
   "execution_count": 326,
   "id": "b4922655-0434-4283-a961-1b7817c0e61b",
   "metadata": {},
   "outputs": [],
   "source": [
    "Cust_df.drop_duplicates(inplace= True)\n",
    "Product_cat_df.drop_duplicates(inplace= True)\n",
    "Transaction_df.drop_duplicates(inplace= True)"
   ]
  },
  {
   "cell_type": "code",
   "execution_count": 327,
   "id": "d4fde893-ea7d-4cbf-8e8a-048c2786c110",
   "metadata": {},
   "outputs": [],
   "source": [
    "Cust_Transaction_df = pd.merge(left=Transaction_df, right= Cust_df, left_on='cust_id', right_on='customer_Id', how= 'left')"
   ]
  },
  {
   "cell_type": "code",
   "execution_count": 328,
   "id": "d14d505f-2556-4f73-9833-77ba7a603839",
   "metadata": {},
   "outputs": [],
   "source": [
    "Product_cat_df['prod_cat_sub_code'] = Product_cat_df['prod_cat_code'].astype('str')+','+Product_cat_df['prod_sub_cat_code'].astype('str')"
   ]
  },
  {
   "cell_type": "code",
   "execution_count": 329,
   "id": "938aaa7e-ff82-4521-9882-2240aac5398e",
   "metadata": {},
   "outputs": [
    {
     "data": {
      "text/plain": [
       "0    1,4\n",
       "1    1,1\n",
       "2    1,3\n",
       "Name: prod_cat_sub_code, dtype: object"
      ]
     },
     "execution_count": 329,
     "metadata": {},
     "output_type": "execute_result"
    }
   ],
   "source": [
    "Product_cat_df['prod_cat_sub_code'].head(3)"
   ]
  },
  {
   "cell_type": "code",
   "execution_count": 330,
   "id": "f8185cbc-b863-4777-9496-2d3db0d1dec6",
   "metadata": {},
   "outputs": [
    {
     "data": {
      "text/plain": [
       "Index(['transaction_id', 'cust_id', 'tran_date', 'prod_subcat_code',\n",
       "       'prod_cat_code', 'Qty', 'Rate', 'Tax', 'total_amt', 'Store_type',\n",
       "       'customer_Id', 'DOB', 'Gender', 'city_code'],\n",
       "      dtype='object')"
      ]
     },
     "execution_count": 330,
     "metadata": {},
     "output_type": "execute_result"
    }
   ],
   "source": [
    "Cust_Transaction_df.columns"
   ]
  },
  {
   "cell_type": "code",
   "execution_count": 331,
   "id": "05cd2f55-2d19-4e45-8333-6efe9577e1b1",
   "metadata": {},
   "outputs": [],
   "source": [
    "Cust_Transaction_df['prod_catsubcat'] = Cust_Transaction_df['prod_cat_code'].astype('str')+','+Cust_Transaction_df['prod_subcat_code'].astype('str')"
   ]
  },
  {
   "cell_type": "code",
   "execution_count": 332,
   "id": "902b05c1-ca6f-4dec-be30-3dd33512d08e",
   "metadata": {},
   "outputs": [
    {
     "data": {
      "text/plain": [
       "0    1,1\n",
       "1    3,5\n",
       "2    5,6\n",
       "Name: prod_catsubcat, dtype: object"
      ]
     },
     "execution_count": 332,
     "metadata": {},
     "output_type": "execute_result"
    }
   ],
   "source": [
    "Cust_Transaction_df['prod_catsubcat'].head(3)"
   ]
  },
  {
   "cell_type": "code",
   "execution_count": 333,
   "id": "1dea79ca-171e-478c-be34-2f0f696a3346",
   "metadata": {},
   "outputs": [],
   "source": [
    "Customer_Final = pd.merge(left=Cust_Transaction_df, right=Product_cat_df, left_on='prod_catsubcat', right_on='prod_cat_sub_code', how='left')"
   ]
  },
  {
   "cell_type": "code",
   "execution_count": 334,
   "id": "ff9ccdd6-7485-4597-bb9a-c177df29ded1",
   "metadata": {},
   "outputs": [
    {
     "name": "stdout",
     "output_type": "stream",
     "text": [
      "<class 'pandas.core.frame.DataFrame'>\n",
      "RangeIndex: 23040 entries, 0 to 23039\n",
      "Data columns (total 20 columns):\n",
      " #   Column             Non-Null Count  Dtype  \n",
      "---  ------             --------------  -----  \n",
      " 0   transaction_id     23040 non-null  int64  \n",
      " 1   cust_id            23040 non-null  int64  \n",
      " 2   tran_date          23040 non-null  object \n",
      " 3   prod_subcat_code   23040 non-null  int64  \n",
      " 4   prod_cat_code_x    23040 non-null  int64  \n",
      " 5   Qty                23040 non-null  int64  \n",
      " 6   Rate               23040 non-null  int64  \n",
      " 7   Tax                23040 non-null  float64\n",
      " 8   total_amt          23040 non-null  float64\n",
      " 9   Store_type         23040 non-null  object \n",
      " 10  customer_Id        23040 non-null  int64  \n",
      " 11  DOB                23040 non-null  object \n",
      " 12  Gender             23031 non-null  object \n",
      " 13  city_code          23032 non-null  float64\n",
      " 14  prod_catsubcat     23040 non-null  object \n",
      " 15  prod_cat_code_y    23040 non-null  int64  \n",
      " 16  prod_cat           23040 non-null  object \n",
      " 17  prod_sub_cat_code  23040 non-null  int64  \n",
      " 18  prod_subcat        23040 non-null  object \n",
      " 19  prod_cat_sub_code  23040 non-null  object \n",
      "dtypes: float64(3), int64(9), object(8)\n",
      "memory usage: 3.5+ MB\n"
     ]
    }
   ],
   "source": [
    "Customer_Final.info()"
   ]
  },
  {
   "cell_type": "code",
   "execution_count": 335,
   "id": "83f7626d-a831-4e31-b568-9ed777d9b242",
   "metadata": {},
   "outputs": [],
   "source": [
    "Customer_Final.drop(columns=['customer_Id','prod_cat_code_y','prod_catsubcat','prod_cat_sub_code','prod_sub_cat_code'],inplace=True)"
   ]
  },
  {
   "cell_type": "code",
   "execution_count": 336,
   "id": "20d7bd58-a176-4b4f-8468-b40db1e1d409",
   "metadata": {},
   "outputs": [
    {
     "data": {
      "text/html": [
       "<div>\n",
       "<style scoped>\n",
       "    .dataframe tbody tr th:only-of-type {\n",
       "        vertical-align: middle;\n",
       "    }\n",
       "\n",
       "    .dataframe tbody tr th {\n",
       "        vertical-align: top;\n",
       "    }\n",
       "\n",
       "    .dataframe thead th {\n",
       "        text-align: right;\n",
       "    }\n",
       "</style>\n",
       "<table border=\"1\" class=\"dataframe\">\n",
       "  <thead>\n",
       "    <tr style=\"text-align: right;\">\n",
       "      <th></th>\n",
       "      <th>transaction_id</th>\n",
       "      <th>cust_id</th>\n",
       "      <th>tran_date</th>\n",
       "      <th>prod_subcat_code</th>\n",
       "      <th>prod_cat_code_x</th>\n",
       "      <th>Qty</th>\n",
       "      <th>Rate</th>\n",
       "      <th>Tax</th>\n",
       "      <th>total_amt</th>\n",
       "      <th>Store_type</th>\n",
       "      <th>DOB</th>\n",
       "      <th>Gender</th>\n",
       "      <th>city_code</th>\n",
       "      <th>prod_cat</th>\n",
       "      <th>prod_subcat</th>\n",
       "    </tr>\n",
       "  </thead>\n",
       "  <tbody>\n",
       "    <tr>\n",
       "      <th>0</th>\n",
       "      <td>80712190438</td>\n",
       "      <td>270351</td>\n",
       "      <td>28-02-2014</td>\n",
       "      <td>1</td>\n",
       "      <td>1</td>\n",
       "      <td>-5</td>\n",
       "      <td>-772</td>\n",
       "      <td>405.300</td>\n",
       "      <td>-4265.300</td>\n",
       "      <td>e-Shop</td>\n",
       "      <td>26-09-1981</td>\n",
       "      <td>M</td>\n",
       "      <td>5.0</td>\n",
       "      <td>Clothing</td>\n",
       "      <td>Women</td>\n",
       "    </tr>\n",
       "    <tr>\n",
       "      <th>1</th>\n",
       "      <td>29258453508</td>\n",
       "      <td>270384</td>\n",
       "      <td>27-02-2014</td>\n",
       "      <td>5</td>\n",
       "      <td>3</td>\n",
       "      <td>-5</td>\n",
       "      <td>-1497</td>\n",
       "      <td>785.925</td>\n",
       "      <td>-8270.925</td>\n",
       "      <td>e-Shop</td>\n",
       "      <td>11-05-1973</td>\n",
       "      <td>F</td>\n",
       "      <td>8.0</td>\n",
       "      <td>Electronics</td>\n",
       "      <td>Computers</td>\n",
       "    </tr>\n",
       "  </tbody>\n",
       "</table>\n",
       "</div>"
      ],
      "text/plain": [
       "   transaction_id  cust_id   tran_date  prod_subcat_code  prod_cat_code_x  \\\n",
       "0     80712190438   270351  28-02-2014                 1                1   \n",
       "1     29258453508   270384  27-02-2014                 5                3   \n",
       "\n",
       "   Qty  Rate      Tax  total_amt Store_type         DOB Gender  city_code  \\\n",
       "0   -5  -772  405.300  -4265.300     e-Shop  26-09-1981      M        5.0   \n",
       "1   -5 -1497  785.925  -8270.925     e-Shop  11-05-1973      F        8.0   \n",
       "\n",
       "      prod_cat prod_subcat  \n",
       "0     Clothing       Women  \n",
       "1  Electronics   Computers  "
      ]
     },
     "execution_count": 336,
     "metadata": {},
     "output_type": "execute_result"
    }
   ],
   "source": [
    "Customer_Final.head(2)"
   ]
  },
  {
   "cell_type": "code",
   "execution_count": 337,
   "id": "76d0e3e4-c6a6-4ad8-98bf-eaab98126e33",
   "metadata": {},
   "outputs": [],
   "source": [
    "Customer_Final.rename(columns={'prod_cat_code_x':'prod_cat_code'}, inplace=True)"
   ]
  },
  {
   "cell_type": "code",
   "execution_count": 338,
   "id": "93d04534-4a4b-4772-9950-b53c66d6bfaa",
   "metadata": {},
   "outputs": [
    {
     "data": {
      "text/plain": [
       "Index(['transaction_id', 'cust_id', 'tran_date', 'prod_subcat_code',\n",
       "       'prod_cat_code', 'Qty', 'Rate', 'Tax', 'total_amt', 'Store_type', 'DOB',\n",
       "       'Gender', 'city_code', 'prod_cat', 'prod_subcat'],\n",
       "      dtype='object')"
      ]
     },
     "execution_count": 338,
     "metadata": {},
     "output_type": "execute_result"
    }
   ],
   "source": [
    "Customer_Final.columns"
   ]
  },
  {
   "cell_type": "code",
   "execution_count": 339,
   "id": "c12a3670-814d-4e86-964f-f2aa625f2db0",
   "metadata": {},
   "outputs": [],
   "source": [
    "Customer_Final['tran_date'] = Customer_Final['tran_date'].str.replace('/','-')"
   ]
  },
  {
   "cell_type": "code",
   "execution_count": 340,
   "id": "5d97f4bd-717d-41c2-ac57-7128775801a2",
   "metadata": {},
   "outputs": [],
   "source": [
    "Customer_Final['tran_date'] = pd.to_datetime(Customer_Final['tran_date'], dayfirst=True, errors='coerce')"
   ]
  },
  {
   "cell_type": "code",
   "execution_count": 341,
   "id": "cea789e5-b72e-4615-9c28-adfbd641a79b",
   "metadata": {},
   "outputs": [],
   "source": [
    "Customer_Final['tran_date'] = pd.to_datetime(Customer_Final['tran_date'],format='%d-%m-%y')"
   ]
  },
  {
   "cell_type": "code",
   "execution_count": 342,
   "id": "43adb8cd-2ab4-49f3-b53b-fef3dee2f6a6",
   "metadata": {},
   "outputs": [],
   "source": [
    "Customer_Final['DOB'] = Customer_Final['DOB'].str.replace('/','-')"
   ]
  },
  {
   "cell_type": "code",
   "execution_count": 343,
   "id": "cd61425c-9e05-4c3b-b77d-c24d15eec0b0",
   "metadata": {},
   "outputs": [],
   "source": [
    "Customer_Final['DOB'] = pd.to_datetime(Customer_Final['DOB'], dayfirst=True, errors='coerce')"
   ]
  },
  {
   "cell_type": "code",
   "execution_count": 344,
   "id": "4b82f326-c24f-4ee7-9101-1f80150f00a7",
   "metadata": {},
   "outputs": [],
   "source": [
    "Customer_Final['DOB'] = pd.to_datetime(Customer_Final['DOB'],format='%d-%m-%y')"
   ]
  },
  {
   "cell_type": "code",
   "execution_count": 345,
   "id": "1f751ea3-530f-4a31-9d5b-afd35b763233",
   "metadata": {},
   "outputs": [
    {
     "data": {
      "text/plain": [
       "transaction_id               int64\n",
       "cust_id                      int64\n",
       "tran_date           datetime64[ns]\n",
       "prod_subcat_code             int64\n",
       "prod_cat_code                int64\n",
       "Qty                          int64\n",
       "Rate                         int64\n",
       "Tax                        float64\n",
       "total_amt                  float64\n",
       "Store_type                  object\n",
       "DOB                 datetime64[ns]\n",
       "Gender                      object\n",
       "city_code                  float64\n",
       "prod_cat                    object\n",
       "prod_subcat                 object\n",
       "dtype: object"
      ]
     },
     "execution_count": 345,
     "metadata": {},
     "output_type": "execute_result"
    }
   ],
   "source": [
    "Customer_Final.dtypes"
   ]
  },
  {
   "cell_type": "code",
   "execution_count": 346,
   "id": "3d7c579b-39ce-4d9c-980e-777e95a1a1a6",
   "metadata": {},
   "outputs": [],
   "source": [
    "Customer_Final[['transaction_id','cust_id','prod_subcat_code','prod_cat_code','city_code']] = Customer_Final[['transaction_id','cust_id','prod_subcat_code','prod_cat_code','city_code']].astype('object')"
   ]
  },
  {
   "cell_type": "markdown",
   "id": "684bac45-d60b-47f2-92ba-17d890683b58",
   "metadata": {},
   "source": [
    "2. Prepare the summary report for the merged dataset\n",
    "   (a) Get the Column name and their corresponding data types.\n",
    "   (b) Top/Bottom 10 Observations.\n",
    "   (c) \"Five Number Summary\" for continuous variables.(Min, Q1, Median, Q3, Max)\n",
    "   (d) Frequency table for all the categorical Variables."
   ]
  },
  {
   "cell_type": "code",
   "execution_count": 347,
   "id": "d54f8062-33ce-4d0e-9f5f-ac78d08e8fe0",
   "metadata": {},
   "outputs": [
    {
     "data": {
      "text/plain": [
       "transaction_id              object\n",
       "cust_id                     object\n",
       "tran_date           datetime64[ns]\n",
       "prod_subcat_code            object\n",
       "prod_cat_code               object\n",
       "Qty                          int64\n",
       "Rate                         int64\n",
       "Tax                        float64\n",
       "total_amt                  float64\n",
       "Store_type                  object\n",
       "DOB                 datetime64[ns]\n",
       "Gender                      object\n",
       "city_code                   object\n",
       "prod_cat                    object\n",
       "prod_subcat                 object\n",
       "dtype: object"
      ]
     },
     "execution_count": 347,
     "metadata": {},
     "output_type": "execute_result"
    }
   ],
   "source": [
    "Customer_Final.dtypes"
   ]
  },
  {
   "cell_type": "code",
   "execution_count": 348,
   "id": "363a2e92-de17-4584-a2fd-9e5158d99477",
   "metadata": {},
   "outputs": [
    {
     "data": {
      "text/html": [
       "<div>\n",
       "<style scoped>\n",
       "    .dataframe tbody tr th:only-of-type {\n",
       "        vertical-align: middle;\n",
       "    }\n",
       "\n",
       "    .dataframe tbody tr th {\n",
       "        vertical-align: top;\n",
       "    }\n",
       "\n",
       "    .dataframe thead th {\n",
       "        text-align: right;\n",
       "    }\n",
       "</style>\n",
       "<table border=\"1\" class=\"dataframe\">\n",
       "  <thead>\n",
       "    <tr style=\"text-align: right;\">\n",
       "      <th></th>\n",
       "      <th>transaction_id</th>\n",
       "      <th>cust_id</th>\n",
       "      <th>tran_date</th>\n",
       "      <th>prod_subcat_code</th>\n",
       "      <th>prod_cat_code</th>\n",
       "      <th>Qty</th>\n",
       "      <th>Rate</th>\n",
       "      <th>Tax</th>\n",
       "      <th>total_amt</th>\n",
       "      <th>Store_type</th>\n",
       "      <th>DOB</th>\n",
       "      <th>Gender</th>\n",
       "      <th>city_code</th>\n",
       "      <th>prod_cat</th>\n",
       "      <th>prod_subcat</th>\n",
       "    </tr>\n",
       "  </thead>\n",
       "  <tbody>\n",
       "    <tr>\n",
       "      <th>0</th>\n",
       "      <td>80712190438</td>\n",
       "      <td>270351</td>\n",
       "      <td>2014-02-28</td>\n",
       "      <td>1</td>\n",
       "      <td>1</td>\n",
       "      <td>-5</td>\n",
       "      <td>-772</td>\n",
       "      <td>405.300</td>\n",
       "      <td>-4265.300</td>\n",
       "      <td>e-Shop</td>\n",
       "      <td>1981-09-26</td>\n",
       "      <td>M</td>\n",
       "      <td>5.0</td>\n",
       "      <td>Clothing</td>\n",
       "      <td>Women</td>\n",
       "    </tr>\n",
       "    <tr>\n",
       "      <th>1</th>\n",
       "      <td>29258453508</td>\n",
       "      <td>270384</td>\n",
       "      <td>2014-02-27</td>\n",
       "      <td>5</td>\n",
       "      <td>3</td>\n",
       "      <td>-5</td>\n",
       "      <td>-1497</td>\n",
       "      <td>785.925</td>\n",
       "      <td>-8270.925</td>\n",
       "      <td>e-Shop</td>\n",
       "      <td>1973-05-11</td>\n",
       "      <td>F</td>\n",
       "      <td>8.0</td>\n",
       "      <td>Electronics</td>\n",
       "      <td>Computers</td>\n",
       "    </tr>\n",
       "    <tr>\n",
       "      <th>2</th>\n",
       "      <td>51750724947</td>\n",
       "      <td>273420</td>\n",
       "      <td>2014-02-24</td>\n",
       "      <td>6</td>\n",
       "      <td>5</td>\n",
       "      <td>-2</td>\n",
       "      <td>-791</td>\n",
       "      <td>166.110</td>\n",
       "      <td>-1748.110</td>\n",
       "      <td>TeleShop</td>\n",
       "      <td>1992-07-27</td>\n",
       "      <td>M</td>\n",
       "      <td>8.0</td>\n",
       "      <td>Books</td>\n",
       "      <td>DIY</td>\n",
       "    </tr>\n",
       "    <tr>\n",
       "      <th>3</th>\n",
       "      <td>93274880719</td>\n",
       "      <td>271509</td>\n",
       "      <td>2014-02-24</td>\n",
       "      <td>11</td>\n",
       "      <td>6</td>\n",
       "      <td>-3</td>\n",
       "      <td>-1363</td>\n",
       "      <td>429.345</td>\n",
       "      <td>-4518.345</td>\n",
       "      <td>e-Shop</td>\n",
       "      <td>1981-06-08</td>\n",
       "      <td>M</td>\n",
       "      <td>3.0</td>\n",
       "      <td>Home and kitchen</td>\n",
       "      <td>Bath</td>\n",
       "    </tr>\n",
       "    <tr>\n",
       "      <th>4</th>\n",
       "      <td>51750724947</td>\n",
       "      <td>273420</td>\n",
       "      <td>2014-02-23</td>\n",
       "      <td>6</td>\n",
       "      <td>5</td>\n",
       "      <td>-2</td>\n",
       "      <td>-791</td>\n",
       "      <td>166.110</td>\n",
       "      <td>-1748.110</td>\n",
       "      <td>TeleShop</td>\n",
       "      <td>1992-07-27</td>\n",
       "      <td>M</td>\n",
       "      <td>8.0</td>\n",
       "      <td>Books</td>\n",
       "      <td>DIY</td>\n",
       "    </tr>\n",
       "    <tr>\n",
       "      <th>5</th>\n",
       "      <td>97439039119</td>\n",
       "      <td>272357</td>\n",
       "      <td>2014-02-23</td>\n",
       "      <td>8</td>\n",
       "      <td>3</td>\n",
       "      <td>-2</td>\n",
       "      <td>-824</td>\n",
       "      <td>173.040</td>\n",
       "      <td>-1821.040</td>\n",
       "      <td>TeleShop</td>\n",
       "      <td>1982-10-09</td>\n",
       "      <td>F</td>\n",
       "      <td>6.0</td>\n",
       "      <td>Electronics</td>\n",
       "      <td>Personal Appliances</td>\n",
       "    </tr>\n",
       "    <tr>\n",
       "      <th>6</th>\n",
       "      <td>45649838090</td>\n",
       "      <td>273667</td>\n",
       "      <td>2014-02-22</td>\n",
       "      <td>11</td>\n",
       "      <td>6</td>\n",
       "      <td>-1</td>\n",
       "      <td>-1450</td>\n",
       "      <td>152.250</td>\n",
       "      <td>-1602.250</td>\n",
       "      <td>e-Shop</td>\n",
       "      <td>1981-05-29</td>\n",
       "      <td>M</td>\n",
       "      <td>9.0</td>\n",
       "      <td>Home and kitchen</td>\n",
       "      <td>Bath</td>\n",
       "    </tr>\n",
       "    <tr>\n",
       "      <th>7</th>\n",
       "      <td>22643667930</td>\n",
       "      <td>271489</td>\n",
       "      <td>2014-02-22</td>\n",
       "      <td>12</td>\n",
       "      <td>6</td>\n",
       "      <td>-1</td>\n",
       "      <td>-1225</td>\n",
       "      <td>128.625</td>\n",
       "      <td>-1353.625</td>\n",
       "      <td>TeleShop</td>\n",
       "      <td>1971-04-21</td>\n",
       "      <td>M</td>\n",
       "      <td>9.0</td>\n",
       "      <td>Home and kitchen</td>\n",
       "      <td>Tools</td>\n",
       "    </tr>\n",
       "    <tr>\n",
       "      <th>8</th>\n",
       "      <td>79792372943</td>\n",
       "      <td>275108</td>\n",
       "      <td>2014-02-22</td>\n",
       "      <td>3</td>\n",
       "      <td>1</td>\n",
       "      <td>-3</td>\n",
       "      <td>-908</td>\n",
       "      <td>286.020</td>\n",
       "      <td>-3010.020</td>\n",
       "      <td>MBR</td>\n",
       "      <td>1971-11-04</td>\n",
       "      <td>F</td>\n",
       "      <td>8.0</td>\n",
       "      <td>Clothing</td>\n",
       "      <td>Kids</td>\n",
       "    </tr>\n",
       "    <tr>\n",
       "      <th>9</th>\n",
       "      <td>50076728598</td>\n",
       "      <td>269014</td>\n",
       "      <td>2014-02-21</td>\n",
       "      <td>8</td>\n",
       "      <td>3</td>\n",
       "      <td>-4</td>\n",
       "      <td>-581</td>\n",
       "      <td>244.020</td>\n",
       "      <td>-2568.020</td>\n",
       "      <td>e-Shop</td>\n",
       "      <td>1979-11-27</td>\n",
       "      <td>F</td>\n",
       "      <td>3.0</td>\n",
       "      <td>Electronics</td>\n",
       "      <td>Personal Appliances</td>\n",
       "    </tr>\n",
       "  </tbody>\n",
       "</table>\n",
       "</div>"
      ],
      "text/plain": [
       "  transaction_id cust_id  tran_date prod_subcat_code prod_cat_code  Qty  Rate  \\\n",
       "0    80712190438  270351 2014-02-28                1             1   -5  -772   \n",
       "1    29258453508  270384 2014-02-27                5             3   -5 -1497   \n",
       "2    51750724947  273420 2014-02-24                6             5   -2  -791   \n",
       "3    93274880719  271509 2014-02-24               11             6   -3 -1363   \n",
       "4    51750724947  273420 2014-02-23                6             5   -2  -791   \n",
       "5    97439039119  272357 2014-02-23                8             3   -2  -824   \n",
       "6    45649838090  273667 2014-02-22               11             6   -1 -1450   \n",
       "7    22643667930  271489 2014-02-22               12             6   -1 -1225   \n",
       "8    79792372943  275108 2014-02-22                3             1   -3  -908   \n",
       "9    50076728598  269014 2014-02-21                8             3   -4  -581   \n",
       "\n",
       "       Tax  total_amt Store_type        DOB Gender city_code  \\\n",
       "0  405.300  -4265.300     e-Shop 1981-09-26      M       5.0   \n",
       "1  785.925  -8270.925     e-Shop 1973-05-11      F       8.0   \n",
       "2  166.110  -1748.110   TeleShop 1992-07-27      M       8.0   \n",
       "3  429.345  -4518.345     e-Shop 1981-06-08      M       3.0   \n",
       "4  166.110  -1748.110   TeleShop 1992-07-27      M       8.0   \n",
       "5  173.040  -1821.040   TeleShop 1982-10-09      F       6.0   \n",
       "6  152.250  -1602.250     e-Shop 1981-05-29      M       9.0   \n",
       "7  128.625  -1353.625   TeleShop 1971-04-21      M       9.0   \n",
       "8  286.020  -3010.020        MBR 1971-11-04      F       8.0   \n",
       "9  244.020  -2568.020     e-Shop 1979-11-27      F       3.0   \n",
       "\n",
       "           prod_cat          prod_subcat  \n",
       "0          Clothing                Women  \n",
       "1       Electronics            Computers  \n",
       "2             Books                  DIY  \n",
       "3  Home and kitchen                 Bath  \n",
       "4             Books                  DIY  \n",
       "5       Electronics  Personal Appliances  \n",
       "6  Home and kitchen                 Bath  \n",
       "7  Home and kitchen                Tools  \n",
       "8          Clothing                 Kids  \n",
       "9       Electronics  Personal Appliances  "
      ]
     },
     "execution_count": 348,
     "metadata": {},
     "output_type": "execute_result"
    }
   ],
   "source": [
    "Customer_Final.head(10)"
   ]
  },
  {
   "cell_type": "code",
   "execution_count": 349,
   "id": "8d691613-8d1e-4c5a-b777-89aff9576781",
   "metadata": {},
   "outputs": [
    {
     "data": {
      "text/html": [
       "<div>\n",
       "<style scoped>\n",
       "    .dataframe tbody tr th:only-of-type {\n",
       "        vertical-align: middle;\n",
       "    }\n",
       "\n",
       "    .dataframe tbody tr th {\n",
       "        vertical-align: top;\n",
       "    }\n",
       "\n",
       "    .dataframe thead th {\n",
       "        text-align: right;\n",
       "    }\n",
       "</style>\n",
       "<table border=\"1\" class=\"dataframe\">\n",
       "  <thead>\n",
       "    <tr style=\"text-align: right;\">\n",
       "      <th></th>\n",
       "      <th>transaction_id</th>\n",
       "      <th>cust_id</th>\n",
       "      <th>tran_date</th>\n",
       "      <th>prod_subcat_code</th>\n",
       "      <th>prod_cat_code</th>\n",
       "      <th>Qty</th>\n",
       "      <th>Rate</th>\n",
       "      <th>Tax</th>\n",
       "      <th>total_amt</th>\n",
       "      <th>Store_type</th>\n",
       "      <th>DOB</th>\n",
       "      <th>Gender</th>\n",
       "      <th>city_code</th>\n",
       "      <th>prod_cat</th>\n",
       "      <th>prod_subcat</th>\n",
       "    </tr>\n",
       "  </thead>\n",
       "  <tbody>\n",
       "    <tr>\n",
       "      <th>23030</th>\n",
       "      <td>49882891062</td>\n",
       "      <td>271982</td>\n",
       "      <td>2011-01-25</td>\n",
       "      <td>10</td>\n",
       "      <td>5</td>\n",
       "      <td>4</td>\n",
       "      <td>1330</td>\n",
       "      <td>558.600</td>\n",
       "      <td>5878.600</td>\n",
       "      <td>e-Shop</td>\n",
       "      <td>1976-08-10</td>\n",
       "      <td>M</td>\n",
       "      <td>8.0</td>\n",
       "      <td>Books</td>\n",
       "      <td>Non-Fiction</td>\n",
       "    </tr>\n",
       "    <tr>\n",
       "      <th>23031</th>\n",
       "      <td>14787475597</td>\n",
       "      <td>273982</td>\n",
       "      <td>2011-01-25</td>\n",
       "      <td>4</td>\n",
       "      <td>3</td>\n",
       "      <td>5</td>\n",
       "      <td>969</td>\n",
       "      <td>508.725</td>\n",
       "      <td>5353.725</td>\n",
       "      <td>e-Shop</td>\n",
       "      <td>1991-10-12</td>\n",
       "      <td>M</td>\n",
       "      <td>4.0</td>\n",
       "      <td>Electronics</td>\n",
       "      <td>Mobiles</td>\n",
       "    </tr>\n",
       "    <tr>\n",
       "      <th>23032</th>\n",
       "      <td>50691119572</td>\n",
       "      <td>273031</td>\n",
       "      <td>2011-01-25</td>\n",
       "      <td>6</td>\n",
       "      <td>5</td>\n",
       "      <td>1</td>\n",
       "      <td>1148</td>\n",
       "      <td>120.540</td>\n",
       "      <td>1268.540</td>\n",
       "      <td>TeleShop</td>\n",
       "      <td>1980-01-17</td>\n",
       "      <td>F</td>\n",
       "      <td>8.0</td>\n",
       "      <td>Books</td>\n",
       "      <td>DIY</td>\n",
       "    </tr>\n",
       "    <tr>\n",
       "      <th>23033</th>\n",
       "      <td>40893803228</td>\n",
       "      <td>272049</td>\n",
       "      <td>2011-01-25</td>\n",
       "      <td>11</td>\n",
       "      <td>6</td>\n",
       "      <td>3</td>\n",
       "      <td>1077</td>\n",
       "      <td>339.255</td>\n",
       "      <td>3570.255</td>\n",
       "      <td>e-Shop</td>\n",
       "      <td>1975-06-28</td>\n",
       "      <td>F</td>\n",
       "      <td>6.0</td>\n",
       "      <td>Home and kitchen</td>\n",
       "      <td>Bath</td>\n",
       "    </tr>\n",
       "    <tr>\n",
       "      <th>23034</th>\n",
       "      <td>30856003613</td>\n",
       "      <td>266866</td>\n",
       "      <td>2011-01-25</td>\n",
       "      <td>4</td>\n",
       "      <td>2</td>\n",
       "      <td>2</td>\n",
       "      <td>444</td>\n",
       "      <td>93.240</td>\n",
       "      <td>981.240</td>\n",
       "      <td>TeleShop</td>\n",
       "      <td>1974-04-18</td>\n",
       "      <td>M</td>\n",
       "      <td>4.0</td>\n",
       "      <td>Footwear</td>\n",
       "      <td>Kids</td>\n",
       "    </tr>\n",
       "    <tr>\n",
       "      <th>23035</th>\n",
       "      <td>94340757522</td>\n",
       "      <td>274550</td>\n",
       "      <td>2011-01-25</td>\n",
       "      <td>12</td>\n",
       "      <td>5</td>\n",
       "      <td>1</td>\n",
       "      <td>1264</td>\n",
       "      <td>132.720</td>\n",
       "      <td>1396.720</td>\n",
       "      <td>e-Shop</td>\n",
       "      <td>1972-02-21</td>\n",
       "      <td>M</td>\n",
       "      <td>7.0</td>\n",
       "      <td>Books</td>\n",
       "      <td>Academic</td>\n",
       "    </tr>\n",
       "    <tr>\n",
       "      <th>23036</th>\n",
       "      <td>89780862956</td>\n",
       "      <td>270022</td>\n",
       "      <td>2011-01-25</td>\n",
       "      <td>4</td>\n",
       "      <td>1</td>\n",
       "      <td>1</td>\n",
       "      <td>677</td>\n",
       "      <td>71.085</td>\n",
       "      <td>748.085</td>\n",
       "      <td>e-Shop</td>\n",
       "      <td>1984-04-27</td>\n",
       "      <td>M</td>\n",
       "      <td>9.0</td>\n",
       "      <td>Clothing</td>\n",
       "      <td>Mens</td>\n",
       "    </tr>\n",
       "    <tr>\n",
       "      <th>23037</th>\n",
       "      <td>85115299378</td>\n",
       "      <td>271020</td>\n",
       "      <td>2011-01-25</td>\n",
       "      <td>2</td>\n",
       "      <td>6</td>\n",
       "      <td>4</td>\n",
       "      <td>1052</td>\n",
       "      <td>441.840</td>\n",
       "      <td>4649.840</td>\n",
       "      <td>MBR</td>\n",
       "      <td>1976-06-20</td>\n",
       "      <td>M</td>\n",
       "      <td>8.0</td>\n",
       "      <td>Home and kitchen</td>\n",
       "      <td>Furnishing</td>\n",
       "    </tr>\n",
       "    <tr>\n",
       "      <th>23038</th>\n",
       "      <td>72870271171</td>\n",
       "      <td>270911</td>\n",
       "      <td>2011-01-25</td>\n",
       "      <td>11</td>\n",
       "      <td>5</td>\n",
       "      <td>3</td>\n",
       "      <td>1142</td>\n",
       "      <td>359.730</td>\n",
       "      <td>3785.730</td>\n",
       "      <td>TeleShop</td>\n",
       "      <td>1970-05-22</td>\n",
       "      <td>M</td>\n",
       "      <td>2.0</td>\n",
       "      <td>Books</td>\n",
       "      <td>Children</td>\n",
       "    </tr>\n",
       "    <tr>\n",
       "      <th>23039</th>\n",
       "      <td>77960931771</td>\n",
       "      <td>271961</td>\n",
       "      <td>2011-01-25</td>\n",
       "      <td>11</td>\n",
       "      <td>5</td>\n",
       "      <td>1</td>\n",
       "      <td>447</td>\n",
       "      <td>46.935</td>\n",
       "      <td>493.935</td>\n",
       "      <td>TeleShop</td>\n",
       "      <td>1982-01-15</td>\n",
       "      <td>M</td>\n",
       "      <td>1.0</td>\n",
       "      <td>Books</td>\n",
       "      <td>Children</td>\n",
       "    </tr>\n",
       "  </tbody>\n",
       "</table>\n",
       "</div>"
      ],
      "text/plain": [
       "      transaction_id cust_id  tran_date prod_subcat_code prod_cat_code  Qty  \\\n",
       "23030    49882891062  271982 2011-01-25               10             5    4   \n",
       "23031    14787475597  273982 2011-01-25                4             3    5   \n",
       "23032    50691119572  273031 2011-01-25                6             5    1   \n",
       "23033    40893803228  272049 2011-01-25               11             6    3   \n",
       "23034    30856003613  266866 2011-01-25                4             2    2   \n",
       "23035    94340757522  274550 2011-01-25               12             5    1   \n",
       "23036    89780862956  270022 2011-01-25                4             1    1   \n",
       "23037    85115299378  271020 2011-01-25                2             6    4   \n",
       "23038    72870271171  270911 2011-01-25               11             5    3   \n",
       "23039    77960931771  271961 2011-01-25               11             5    1   \n",
       "\n",
       "       Rate      Tax  total_amt Store_type        DOB Gender city_code  \\\n",
       "23030  1330  558.600   5878.600     e-Shop 1976-08-10      M       8.0   \n",
       "23031   969  508.725   5353.725     e-Shop 1991-10-12      M       4.0   \n",
       "23032  1148  120.540   1268.540   TeleShop 1980-01-17      F       8.0   \n",
       "23033  1077  339.255   3570.255     e-Shop 1975-06-28      F       6.0   \n",
       "23034   444   93.240    981.240   TeleShop 1974-04-18      M       4.0   \n",
       "23035  1264  132.720   1396.720     e-Shop 1972-02-21      M       7.0   \n",
       "23036   677   71.085    748.085     e-Shop 1984-04-27      M       9.0   \n",
       "23037  1052  441.840   4649.840        MBR 1976-06-20      M       8.0   \n",
       "23038  1142  359.730   3785.730   TeleShop 1970-05-22      M       2.0   \n",
       "23039   447   46.935    493.935   TeleShop 1982-01-15      M       1.0   \n",
       "\n",
       "               prod_cat  prod_subcat  \n",
       "23030             Books  Non-Fiction  \n",
       "23031       Electronics      Mobiles  \n",
       "23032             Books          DIY  \n",
       "23033  Home and kitchen         Bath  \n",
       "23034          Footwear         Kids  \n",
       "23035             Books     Academic  \n",
       "23036          Clothing         Mens  \n",
       "23037  Home and kitchen   Furnishing  \n",
       "23038             Books     Children  \n",
       "23039             Books     Children  "
      ]
     },
     "execution_count": 349,
     "metadata": {},
     "output_type": "execute_result"
    }
   ],
   "source": [
    "Customer_Final.tail(10)"
   ]
  },
  {
   "cell_type": "code",
   "execution_count": 350,
   "id": "cc19da3c-280e-49c7-b7f5-875ac14b49e8",
   "metadata": {},
   "outputs": [
    {
     "data": {
      "text/plain": [
       "Index(['transaction_id', 'cust_id', 'tran_date', 'prod_subcat_code',\n",
       "       'prod_cat_code', 'Qty', 'Rate', 'Tax', 'total_amt', 'Store_type', 'DOB',\n",
       "       'Gender', 'city_code', 'prod_cat', 'prod_subcat'],\n",
       "      dtype='object')"
      ]
     },
     "execution_count": 350,
     "metadata": {},
     "output_type": "execute_result"
    }
   ],
   "source": [
    "Customer_Final.columns"
   ]
  },
  {
   "cell_type": "code",
   "execution_count": 351,
   "id": "515e2fcb-0b6c-4c23-ade5-7cd9c80cf1bb",
   "metadata": {},
   "outputs": [
    {
     "data": {
      "text/html": [
       "<div>\n",
       "<style scoped>\n",
       "    .dataframe tbody tr th:only-of-type {\n",
       "        vertical-align: middle;\n",
       "    }\n",
       "\n",
       "    .dataframe tbody tr th {\n",
       "        vertical-align: top;\n",
       "    }\n",
       "\n",
       "    .dataframe thead th {\n",
       "        text-align: right;\n",
       "    }\n",
       "</style>\n",
       "<table border=\"1\" class=\"dataframe\">\n",
       "  <thead>\n",
       "    <tr style=\"text-align: right;\">\n",
       "      <th></th>\n",
       "      <th>Qty</th>\n",
       "      <th>Rate</th>\n",
       "      <th>Tax</th>\n",
       "      <th>total_amt</th>\n",
       "    </tr>\n",
       "  </thead>\n",
       "  <tbody>\n",
       "    <tr>\n",
       "      <th>count</th>\n",
       "      <td>23040.00</td>\n",
       "      <td>23040.00</td>\n",
       "      <td>23040.00</td>\n",
       "      <td>23040.00</td>\n",
       "    </tr>\n",
       "    <tr>\n",
       "      <th>mean</th>\n",
       "      <td>2.44</td>\n",
       "      <td>637.09</td>\n",
       "      <td>248.68</td>\n",
       "      <td>2109.87</td>\n",
       "    </tr>\n",
       "    <tr>\n",
       "      <th>std</th>\n",
       "      <td>2.26</td>\n",
       "      <td>621.73</td>\n",
       "      <td>187.19</td>\n",
       "      <td>2505.61</td>\n",
       "    </tr>\n",
       "    <tr>\n",
       "      <th>min</th>\n",
       "      <td>-5.00</td>\n",
       "      <td>-1499.00</td>\n",
       "      <td>7.35</td>\n",
       "      <td>-8270.92</td>\n",
       "    </tr>\n",
       "    <tr>\n",
       "      <th>25%</th>\n",
       "      <td>1.00</td>\n",
       "      <td>312.00</td>\n",
       "      <td>98.28</td>\n",
       "      <td>762.45</td>\n",
       "    </tr>\n",
       "    <tr>\n",
       "      <th>50%</th>\n",
       "      <td>3.00</td>\n",
       "      <td>710.00</td>\n",
       "      <td>199.08</td>\n",
       "      <td>1756.95</td>\n",
       "    </tr>\n",
       "    <tr>\n",
       "      <th>75%</th>\n",
       "      <td>4.00</td>\n",
       "      <td>1109.00</td>\n",
       "      <td>365.77</td>\n",
       "      <td>3570.26</td>\n",
       "    </tr>\n",
       "    <tr>\n",
       "      <th>max</th>\n",
       "      <td>5.00</td>\n",
       "      <td>1500.00</td>\n",
       "      <td>787.50</td>\n",
       "      <td>8287.50</td>\n",
       "    </tr>\n",
       "  </tbody>\n",
       "</table>\n",
       "</div>"
      ],
      "text/plain": [
       "            Qty      Rate       Tax  total_amt\n",
       "count  23040.00  23040.00  23040.00   23040.00\n",
       "mean       2.44    637.09    248.68    2109.87\n",
       "std        2.26    621.73    187.19    2505.61\n",
       "min       -5.00  -1499.00      7.35   -8270.92\n",
       "25%        1.00    312.00     98.28     762.45\n",
       "50%        3.00    710.00    199.08    1756.95\n",
       "75%        4.00   1109.00    365.77    3570.26\n",
       "max        5.00   1500.00    787.50    8287.50"
      ]
     },
     "execution_count": 351,
     "metadata": {},
     "output_type": "execute_result"
    }
   ],
   "source": [
    "Customer_Final[['Qty','Rate','Tax','total_amt']].describe().round(2)"
   ]
  },
  {
   "cell_type": "code",
   "execution_count": 352,
   "id": "3f4b263e-84e4-4e05-84cf-d59f128108fa",
   "metadata": {},
   "outputs": [
    {
     "name": "stdout",
     "output_type": "stream",
     "text": [
      "transaction_id\n",
      "32263938079    4\n",
      "55389581056    3\n",
      "25554803686    3\n",
      "28679132905    3\n",
      "14694035198    3\n",
      "              ..\n",
      "88791150012    1\n",
      "17648795819    1\n",
      "25673128667    1\n",
      "14616200775    1\n",
      "77960931771    1\n",
      "Name: count, Length: 20878, dtype: int64\n",
      "cust_id\n",
      "268819    13\n",
      "269449    13\n",
      "275252    12\n",
      "272415    12\n",
      "270831    12\n",
      "          ..\n",
      "270876     1\n",
      "272472     1\n",
      "273867     1\n",
      "274139     1\n",
      "273723     1\n",
      "Name: count, Length: 5506, dtype: int64\n",
      "prod_subcat_code\n",
      "4     4000\n",
      "3     3065\n",
      "10    2991\n",
      "1     2948\n",
      "11    2057\n",
      "12    2027\n",
      "7     1043\n",
      "2     1007\n",
      "6      989\n",
      "9      985\n",
      "8      970\n",
      "5      958\n",
      "Name: count, dtype: int64\n",
      "prod_cat_code\n",
      "5    6066\n",
      "3    4895\n",
      "6    4126\n",
      "2    2996\n",
      "1    2960\n",
      "4    1997\n",
      "Name: count, dtype: int64\n",
      "Store_type\n",
      "e-Shop            9304\n",
      "MBR               4660\n",
      "Flagship store    4575\n",
      "TeleShop          4501\n",
      "Name: count, dtype: int64\n",
      "Gender\n",
      "M    11804\n",
      "F    11227\n",
      "Name: count, dtype: int64\n",
      "city_code\n",
      "4.0     2422\n",
      "3.0     2410\n",
      "5.0     2357\n",
      "7.0     2356\n",
      "10.0    2333\n",
      "8.0     2328\n",
      "2.0     2268\n",
      "1.0     2255\n",
      "9.0     2176\n",
      "6.0     2127\n",
      "Name: count, dtype: int64\n",
      "prod_cat\n",
      "Books               6066\n",
      "Electronics         4895\n",
      "Home and kitchen    4126\n",
      "Footwear            2996\n",
      "Clothing            2960\n",
      "Bags                1997\n",
      "Name: count, dtype: int64\n",
      "prod_subcat\n",
      "Women                  3046\n",
      "Mens                   2910\n",
      "Kids                   1997\n",
      "Tools                  1061\n",
      "Fiction                1043\n",
      "Kitchen                1036\n",
      "Children               1035\n",
      "Mobiles                1030\n",
      "Comics                 1030\n",
      "Bath                   1022\n",
      "Furnishing             1007\n",
      "Non-Fiction            1003\n",
      "DIY                     989\n",
      "Cameras                 985\n",
      "Personal Appliances     970\n",
      "Academic                966\n",
      "Computers               958\n",
      "Audio and video         952\n",
      "Name: count, dtype: int64\n"
     ]
    }
   ],
   "source": [
    "for column in Customer_Final.columns:\n",
    "    if Customer_Final[column].dtypes == 'object':\n",
    "        print(Customer_Final[column].value_counts())"
   ]
  },
  {
   "cell_type": "markdown",
   "id": "c774c603-9cd3-4d7d-a628-eb56fef7fac3",
   "metadata": {},
   "source": [
    "3. Geerate histogram for all continuous variables and frequency bars for categorical variables."
   ]
  },
  {
   "cell_type": "code",
   "execution_count": 353,
   "id": "233b03ce-ac04-48ce-afb8-95ccc652c8d7",
   "metadata": {},
   "outputs": [
    {
     "data": {
      "text/plain": [
       "Index(['transaction_id', 'cust_id', 'tran_date', 'prod_subcat_code',\n",
       "       'prod_cat_code', 'Qty', 'Rate', 'Tax', 'total_amt', 'Store_type', 'DOB',\n",
       "       'Gender', 'city_code', 'prod_cat', 'prod_subcat'],\n",
       "      dtype='object')"
      ]
     },
     "execution_count": 353,
     "metadata": {},
     "output_type": "execute_result"
    }
   ],
   "source": [
    "Customer_Final.columns"
   ]
  },
  {
   "cell_type": "code",
   "execution_count": 354,
   "id": "8c426420-c76f-4717-a3af-d8ef497b8848",
   "metadata": {},
   "outputs": [],
   "source": [
    "Cat_df = Customer_Final[['Store_type','Gender','city_code','prod_cat','prod_subcat']]"
   ]
  },
  {
   "cell_type": "code",
   "execution_count": 355,
   "id": "bc837e5c-8b57-4cfe-86f9-f27925faec75",
   "metadata": {},
   "outputs": [],
   "source": [
    "Num_df = Customer_Final[['Qty','Rate','Tax','total_amt']]"
   ]
  },
  {
   "cell_type": "code",
   "execution_count": 356,
   "id": "ee2fe8b6-0114-4689-9eac-a4e3d876039c",
   "metadata": {},
   "outputs": [
    {
     "data": {
      "image/png": "[encoded data removed]",
      "text/plain": [
       "<Figure size 1400x1000 with 5 Axes>"
      ]
     },
     "metadata": {},
     "output_type": "display_data"
    }
   ],
   "source": [
    "fig,axes = plt.subplots(nrows=2, ncols=3, figsize=(14,10))\n",
    "a=sns.countplot(y=Cat_df['Store_type'],ax= axes[0,0])\n",
    "axes[0,0].set_title('store type total transactions')\n",
    "for container in a.containers:\n",
    "    a.bar_label(container)\n",
    "b=sns.countplot(x=Cat_df['Gender'],ax=axes[0,1])\n",
    "axes[0,1].set_title('Transactions by Gender')\n",
    "for container in b.containers:\n",
    "    b.bar_label(container)\n",
    "c=sns.countplot(y=Cat_df['prod_cat'],ax=axes[0,2])\n",
    "axes[0,2].set_title('Transactions by Product Category')\n",
    "for container in c.containers:\n",
    "    c.bar_label(container)\n",
    "d=sns.countplot(y=Cat_df['prod_subcat'],ax = axes[1,0])\n",
    "axes[1,0].set_title('Transactions by Products Subcategory')\n",
    "for container in d.containers:\n",
    "    d.bar_label(container)\n",
    "e=sns.countplot(y=Cat_df['city_code'],ax= axes[1,1])\n",
    "axes[1,1].set_title('Transactions by Citycode')\n",
    "for container in e.containers:\n",
    "    e.bar_label(container)\n",
    "fig.delaxes(axes[1, 2])\n",
    "plt.tight_layout()\n",
    "plt.show()"
   ]
  },
  {
   "cell_type": "code",
   "execution_count": 357,
   "id": "2df55edb-a13d-41a6-929a-2cbe3ff62b2d",
   "metadata": {},
   "outputs": [
    {
     "data": {
      "image/png": "[encoded data removed]",
      "text/plain": [
       "<Figure size 640x480 with 4 Axes>"
      ]
     },
     "metadata": {},
     "output_type": "display_data"
    }
   ],
   "source": [
    "for i in range(Num_df.shape[1]):\n",
    "    plt.subplot(2,2,i+1)\n",
    "    sns.histplot(data=Num_df.iloc[:,i])\n",
    "    \n",
    "plt.tight_layout()\n",
    "plt.show()"
   ]
  },
  {
   "cell_type": "markdown",
   "id": "30d02fe1-9877-48e9-98d1-92e47c176bf4",
   "metadata": {},
   "source": [
    "4. Calculate the following information using merged dataset.\n",
    "   (i) Time period of the available transaction data\n",
    "   (ii) Count of transactions where the total amount of transactions was negative"
   ]
  },
  {
   "cell_type": "code",
   "execution_count": 358,
   "id": "2be197b5-fd86-44d8-8bd4-b920b99a22d2",
   "metadata": {},
   "outputs": [
    {
     "data": {
      "text/plain": [
       "Index(['transaction_id', 'cust_id', 'tran_date', 'prod_subcat_code',\n",
       "       'prod_cat_code', 'Qty', 'Rate', 'Tax', 'total_amt', 'Store_type', 'DOB',\n",
       "       'Gender', 'city_code', 'prod_cat', 'prod_subcat'],\n",
       "      dtype='object')"
      ]
     },
     "execution_count": 358,
     "metadata": {},
     "output_type": "execute_result"
    }
   ],
   "source": [
    "Customer_Final.columns\n"
   ]
  },
  {
   "cell_type": "code",
   "execution_count": 359,
   "id": "55c15644-cc92-4982-848c-f99f11330a59",
   "metadata": {},
   "outputs": [
    {
     "data": {
      "text/plain": [
       "Timestamp('2014-02-28 00:00:00')"
      ]
     },
     "execution_count": 359,
     "metadata": {},
     "output_type": "execute_result"
    }
   ],
   "source": [
    "Customer_Final['tran_date'].max()"
   ]
  },
  {
   "cell_type": "code",
   "execution_count": 360,
   "id": "46de2b3c-5f7b-43b4-a22e-6ba2837a2b7a",
   "metadata": {},
   "outputs": [
    {
     "data": {
      "text/plain": [
       "Timestamp('2011-01-25 00:00:00')"
      ]
     },
     "execution_count": 360,
     "metadata": {},
     "output_type": "execute_result"
    }
   ],
   "source": [
    "Customer_Final['tran_date'].min()"
   ]
  },
  {
   "cell_type": "code",
   "execution_count": 361,
   "id": "e1b3faf7-5b25-4cd5-8196-fd03b2094c9c",
   "metadata": {},
   "outputs": [],
   "source": [
    "from dateutil.relativedelta import relativedelta"
   ]
  },
  {
   "cell_type": "code",
   "execution_count": 362,
   "id": "48f6cd83-9f58-4a7f-8bbc-c172b464eb3f",
   "metadata": {},
   "outputs": [],
   "source": [
    "Time_duration = relativedelta(Customer_Final['tran_date'].max(),Customer_Final['tran_date'].min())"
   ]
  },
  {
   "cell_type": "code",
   "execution_count": 363,
   "id": "e364e147-840f-4512-887e-a11f5d182504",
   "metadata": {},
   "outputs": [
    {
     "data": {
      "text/plain": [
       "relativedelta(years=+3, months=+1, days=+3)"
      ]
     },
     "execution_count": 363,
     "metadata": {},
     "output_type": "execute_result"
    }
   ],
   "source": [
    "Time_duration"
   ]
  },
  {
   "cell_type": "code",
   "execution_count": 364,
   "id": "7fc69848-775e-45d7-b051-066368b45a40",
   "metadata": {},
   "outputs": [
    {
     "name": "stdout",
     "output_type": "stream",
     "text": [
      "Years:3,Months:1,days:3\n"
     ]
    }
   ],
   "source": [
    "print(f'Years:{Time_duration.years},Months:{Time_duration.months},days:{Time_duration.days}')"
   ]
  },
  {
   "cell_type": "code",
   "execution_count": 365,
   "id": "d67b218e-8b17-4e24-96c1-b7f5a308c4e7",
   "metadata": {},
   "outputs": [
    {
     "data": {
      "text/plain": [
       "2164"
      ]
     },
     "execution_count": 365,
     "metadata": {},
     "output_type": "execute_result"
    }
   ],
   "source": [
    "Customer_Final['total_amt'][Customer_Final['total_amt']<0].count()"
   ]
  },
  {
   "cell_type": "markdown",
   "id": "4cae1a85-50d4-48fd-84b9-9b6d9118c58e",
   "metadata": {},
   "source": [
    "5. Analyze which product categories are more popular among female vs male"
   ]
  },
  {
   "cell_type": "code",
   "execution_count": 366,
   "id": "16913b21-7cdd-405f-9a06-34520ff402b2",
   "metadata": {},
   "outputs": [
    {
     "data": {
      "text/plain": [
       "Index(['transaction_id', 'cust_id', 'tran_date', 'prod_subcat_code',\n",
       "       'prod_cat_code', 'Qty', 'Rate', 'Tax', 'total_amt', 'Store_type', 'DOB',\n",
       "       'Gender', 'city_code', 'prod_cat', 'prod_subcat'],\n",
       "      dtype='object')"
      ]
     },
     "execution_count": 366,
     "metadata": {},
     "output_type": "execute_result"
    }
   ],
   "source": [
    "Customer_Final.columns"
   ]
  },
  {
   "cell_type": "code",
   "execution_count": 367,
   "id": "511d3128-ea64-46d7-956d-5da40f7b6917",
   "metadata": {},
   "outputs": [],
   "source": [
    "Qty_sold = Customer_Final.pivot_table(index='prod_cat', columns='Gender', values='transaction_id', aggfunc={'transaction_id':'count'})"
   ]
  },
  {
   "cell_type": "code",
   "execution_count": 368,
   "id": "e33c0278-f60e-46d5-8470-d8d46926745f",
   "metadata": {},
   "outputs": [
    {
     "data": {
      "text/html": [
       "<div>\n",
       "<style scoped>\n",
       "    .dataframe tbody tr th:only-of-type {\n",
       "        vertical-align: middle;\n",
       "    }\n",
       "\n",
       "    .dataframe tbody tr th {\n",
       "        vertical-align: top;\n",
       "    }\n",
       "\n",
       "    .dataframe thead th {\n",
       "        text-align: right;\n",
       "    }\n",
       "</style>\n",
       "<table border=\"1\" class=\"dataframe\">\n",
       "  <thead>\n",
       "    <tr style=\"text-align: right;\">\n",
       "      <th>Gender</th>\n",
       "      <th>F</th>\n",
       "      <th>M</th>\n",
       "    </tr>\n",
       "    <tr>\n",
       "      <th>prod_cat</th>\n",
       "      <th></th>\n",
       "      <th></th>\n",
       "    </tr>\n",
       "  </thead>\n",
       "  <tbody>\n",
       "    <tr>\n",
       "      <th>Bags</th>\n",
       "      <td>993</td>\n",
       "      <td>1004</td>\n",
       "    </tr>\n",
       "    <tr>\n",
       "      <th>Books</th>\n",
       "      <td>2946</td>\n",
       "      <td>3116</td>\n",
       "    </tr>\n",
       "    <tr>\n",
       "      <th>Clothing</th>\n",
       "      <td>1439</td>\n",
       "      <td>1518</td>\n",
       "    </tr>\n",
       "    <tr>\n",
       "      <th>Electronics</th>\n",
       "      <td>2328</td>\n",
       "      <td>2567</td>\n",
       "    </tr>\n",
       "    <tr>\n",
       "      <th>Footwear</th>\n",
       "      <td>1528</td>\n",
       "      <td>1467</td>\n",
       "    </tr>\n",
       "    <tr>\n",
       "      <th>Home and kitchen</th>\n",
       "      <td>1993</td>\n",
       "      <td>2132</td>\n",
       "    </tr>\n",
       "  </tbody>\n",
       "</table>\n",
       "</div>"
      ],
      "text/plain": [
       "Gender               F     M\n",
       "prod_cat                    \n",
       "Bags               993  1004\n",
       "Books             2946  3116\n",
       "Clothing          1439  1518\n",
       "Electronics       2328  2567\n",
       "Footwear          1528  1467\n",
       "Home and kitchen  1993  2132"
      ]
     },
     "execution_count": 368,
     "metadata": {},
     "output_type": "execute_result"
    }
   ],
   "source": [
    "Qty_sold"
   ]
  },
  {
   "cell_type": "code",
   "execution_count": 369,
   "id": "8312695b-9208-4304-90a3-2472729754d9",
   "metadata": {},
   "outputs": [
    {
     "data": {
      "image/png": "[encoded data removed]",
      "text/plain": [
       "<Figure size 640x480 with 1 Axes>"
      ]
     },
     "metadata": {},
     "output_type": "display_data"
    }
   ],
   "source": [
    "a= Qty_sold.sort_values(by=['F','M'], ascending=True).plot(kind='barh')\n",
    "for i in a.containers:\n",
    "    a.bar_label(i)\n",
    "plt.show()"
   ]
  },
  {
   "cell_type": "markdown",
   "id": "7f0324df-55db-4467-9e75-990202cd72e6",
   "metadata": {},
   "source": [
    "6. Which city code has the maximum customers and what was the % of customers from that city."
   ]
  },
  {
   "cell_type": "code",
   "execution_count": 370,
   "id": "2f794715-45e1-4039-b615-df8ab8a4b052",
   "metadata": {},
   "outputs": [
    {
     "data": {
      "text/plain": [
       "Index(['transaction_id', 'cust_id', 'tran_date', 'prod_subcat_code',\n",
       "       'prod_cat_code', 'Qty', 'Rate', 'Tax', 'total_amt', 'Store_type', 'DOB',\n",
       "       'Gender', 'city_code', 'prod_cat', 'prod_subcat'],\n",
       "      dtype='object')"
      ]
     },
     "execution_count": 370,
     "metadata": {},
     "output_type": "execute_result"
    }
   ],
   "source": [
    "Customer_Final.columns"
   ]
  },
  {
   "cell_type": "code",
   "execution_count": 371,
   "id": "c13a9683-6450-4c86-b6a8-50c2242301c5",
   "metadata": {},
   "outputs": [],
   "source": [
    "City_wise = Customer_Final.groupby(by=['city_code']).agg(Customers = ('cust_id','nunique'))"
   ]
  },
  {
   "cell_type": "code",
   "execution_count": 372,
   "id": "f5d89a28-91c5-44ff-9b1d-29302918d476",
   "metadata": {},
   "outputs": [
    {
     "data": {
      "text/html": [
       "<div>\n",
       "<style scoped>\n",
       "    .dataframe tbody tr th:only-of-type {\n",
       "        vertical-align: middle;\n",
       "    }\n",
       "\n",
       "    .dataframe tbody tr th {\n",
       "        vertical-align: top;\n",
       "    }\n",
       "\n",
       "    .dataframe thead th {\n",
       "        text-align: right;\n",
       "    }\n",
       "</style>\n",
       "<table border=\"1\" class=\"dataframe\">\n",
       "  <thead>\n",
       "    <tr style=\"text-align: right;\">\n",
       "      <th></th>\n",
       "      <th>Customers</th>\n",
       "    </tr>\n",
       "    <tr>\n",
       "      <th>city_code</th>\n",
       "      <th></th>\n",
       "    </tr>\n",
       "  </thead>\n",
       "  <tbody>\n",
       "    <tr>\n",
       "      <th>1.0</th>\n",
       "      <td>535</td>\n",
       "    </tr>\n",
       "    <tr>\n",
       "      <th>2.0</th>\n",
       "      <td>546</td>\n",
       "    </tr>\n",
       "    <tr>\n",
       "      <th>3.0</th>\n",
       "      <td>576</td>\n",
       "    </tr>\n",
       "    <tr>\n",
       "      <th>4.0</th>\n",
       "      <td>569</td>\n",
       "    </tr>\n",
       "    <tr>\n",
       "      <th>5.0</th>\n",
       "      <td>570</td>\n",
       "    </tr>\n",
       "    <tr>\n",
       "      <th>6.0</th>\n",
       "      <td>516</td>\n",
       "    </tr>\n",
       "    <tr>\n",
       "      <th>7.0</th>\n",
       "      <td>563</td>\n",
       "    </tr>\n",
       "    <tr>\n",
       "      <th>8.0</th>\n",
       "      <td>551</td>\n",
       "    </tr>\n",
       "    <tr>\n",
       "      <th>9.0</th>\n",
       "      <td>532</td>\n",
       "    </tr>\n",
       "    <tr>\n",
       "      <th>10.0</th>\n",
       "      <td>546</td>\n",
       "    </tr>\n",
       "  </tbody>\n",
       "</table>\n",
       "</div>"
      ],
      "text/plain": [
       "           Customers\n",
       "city_code           \n",
       "1.0              535\n",
       "2.0              546\n",
       "3.0              576\n",
       "4.0              569\n",
       "5.0              570\n",
       "6.0              516\n",
       "7.0              563\n",
       "8.0              551\n",
       "9.0              532\n",
       "10.0             546"
      ]
     },
     "execution_count": 372,
     "metadata": {},
     "output_type": "execute_result"
    }
   ],
   "source": [
    "City_wise"
   ]
  },
  {
   "cell_type": "code",
   "execution_count": 373,
   "id": "d5a4394a-c142-41a7-b9f5-1612aa879365",
   "metadata": {},
   "outputs": [],
   "source": [
    "City_wise['percent'] = City_wise['Customers'].div(City_wise['Customers'].sum()*100)"
   ]
  },
  {
   "cell_type": "code",
   "execution_count": 374,
   "id": "fcc550bc-3866-4891-8161-d07c573b597f",
   "metadata": {},
   "outputs": [
    {
     "data": {
      "text/html": [
       "<div>\n",
       "<style scoped>\n",
       "    .dataframe tbody tr th:only-of-type {\n",
       "        vertical-align: middle;\n",
       "    }\n",
       "\n",
       "    .dataframe tbody tr th {\n",
       "        vertical-align: top;\n",
       "    }\n",
       "\n",
       "    .dataframe thead th {\n",
       "        text-align: right;\n",
       "    }\n",
       "</style>\n",
       "<table border=\"1\" class=\"dataframe\">\n",
       "  <thead>\n",
       "    <tr style=\"text-align: right;\">\n",
       "      <th></th>\n",
       "      <th>Customers</th>\n",
       "      <th>percent</th>\n",
       "    </tr>\n",
       "    <tr>\n",
       "      <th>city_code</th>\n",
       "      <th></th>\n",
       "      <th></th>\n",
       "    </tr>\n",
       "  </thead>\n",
       "  <tbody>\n",
       "    <tr>\n",
       "      <th>1.0</th>\n",
       "      <td>535</td>\n",
       "      <td>0.000972</td>\n",
       "    </tr>\n",
       "    <tr>\n",
       "      <th>2.0</th>\n",
       "      <td>546</td>\n",
       "      <td>0.000992</td>\n",
       "    </tr>\n",
       "    <tr>\n",
       "      <th>3.0</th>\n",
       "      <td>576</td>\n",
       "      <td>0.001047</td>\n",
       "    </tr>\n",
       "    <tr>\n",
       "      <th>4.0</th>\n",
       "      <td>569</td>\n",
       "      <td>0.001034</td>\n",
       "    </tr>\n",
       "    <tr>\n",
       "      <th>5.0</th>\n",
       "      <td>570</td>\n",
       "      <td>0.001036</td>\n",
       "    </tr>\n",
       "    <tr>\n",
       "      <th>6.0</th>\n",
       "      <td>516</td>\n",
       "      <td>0.000937</td>\n",
       "    </tr>\n",
       "    <tr>\n",
       "      <th>7.0</th>\n",
       "      <td>563</td>\n",
       "      <td>0.001023</td>\n",
       "    </tr>\n",
       "    <tr>\n",
       "      <th>8.0</th>\n",
       "      <td>551</td>\n",
       "      <td>0.001001</td>\n",
       "    </tr>\n",
       "    <tr>\n",
       "      <th>9.0</th>\n",
       "      <td>532</td>\n",
       "      <td>0.000967</td>\n",
       "    </tr>\n",
       "    <tr>\n",
       "      <th>10.0</th>\n",
       "      <td>546</td>\n",
       "      <td>0.000992</td>\n",
       "    </tr>\n",
       "  </tbody>\n",
       "</table>\n",
       "</div>"
      ],
      "text/plain": [
       "           Customers   percent\n",
       "city_code                     \n",
       "1.0              535  0.000972\n",
       "2.0              546  0.000992\n",
       "3.0              576  0.001047\n",
       "4.0              569  0.001034\n",
       "5.0              570  0.001036\n",
       "6.0              516  0.000937\n",
       "7.0              563  0.001023\n",
       "8.0              551  0.001001\n",
       "9.0              532  0.000967\n",
       "10.0             546  0.000992"
      ]
     },
     "execution_count": 374,
     "metadata": {},
     "output_type": "execute_result"
    }
   ],
   "source": [
    "City_wise"
   ]
  },
  {
   "cell_type": "code",
   "execution_count": 375,
   "id": "1c15ba4d-7224-4ddd-878f-a1322cdc8bd1",
   "metadata": {},
   "outputs": [
    {
     "data": {
      "text/plain": [
       "Customers  percent \n",
       "546        0.000992    2\n",
       "516        0.000937    1\n",
       "532        0.000967    1\n",
       "535        0.000972    1\n",
       "551        0.001001    1\n",
       "563        0.001023    1\n",
       "569        0.001034    1\n",
       "570        0.001036    1\n",
       "576        0.001047    1\n",
       "Name: count, dtype: int64"
      ]
     },
     "execution_count": 375,
     "metadata": {},
     "output_type": "execute_result"
    }
   ],
   "source": [
    "City_wise.value_counts()"
   ]
  },
  {
   "cell_type": "code",
   "execution_count": 376,
   "id": "d6a2cf43-57fe-48a3-8e45-198c3ff9d99a",
   "metadata": {},
   "outputs": [
    {
     "data": {
      "text/plain": [
       "576"
      ]
     },
     "execution_count": 376,
     "metadata": {},
     "output_type": "execute_result"
    }
   ],
   "source": [
    "City_wise['Customers'].max()"
   ]
  },
  {
   "cell_type": "code",
   "execution_count": 377,
   "id": "b31c30b4-015a-40f0-981e-082cf499baa9",
   "metadata": {},
   "outputs": [
    {
     "data": {
      "text/plain": [
       "3.0"
      ]
     },
     "execution_count": 377,
     "metadata": {},
     "output_type": "execute_result"
    }
   ],
   "source": [
    "City_wise['Customers'].idxmax()"
   ]
  },
  {
   "cell_type": "code",
   "execution_count": 378,
   "id": "a22a3ff2-5524-4345-9309-9dca6202487f",
   "metadata": {},
   "outputs": [
    {
     "data": {
      "text/plain": [
       "Customers    10.47\n",
       "percent      10.47\n",
       "dtype: float64"
      ]
     },
     "execution_count": 378,
     "metadata": {},
     "output_type": "execute_result"
    }
   ],
   "source": [
    "(City_wise.max()/City_wise.sum()*100).round(2)"
   ]
  },
  {
   "cell_type": "code",
   "execution_count": 379,
   "id": "c7897ae8-7bb8-4de2-b1e0-e14ac57c9016",
   "metadata": {},
   "outputs": [
    {
     "data": {
      "text/html": [
       "<div>\n",
       "<style scoped>\n",
       "    .dataframe tbody tr th:only-of-type {\n",
       "        vertical-align: middle;\n",
       "    }\n",
       "\n",
       "    .dataframe tbody tr th {\n",
       "        vertical-align: top;\n",
       "    }\n",
       "\n",
       "    .dataframe thead th {\n",
       "        text-align: right;\n",
       "    }\n",
       "</style>\n",
       "<table border=\"1\" class=\"dataframe\">\n",
       "  <thead>\n",
       "    <tr style=\"text-align: right;\">\n",
       "      <th></th>\n",
       "      <th>Customers</th>\n",
       "      <th>percent</th>\n",
       "    </tr>\n",
       "    <tr>\n",
       "      <th>city_code</th>\n",
       "      <th></th>\n",
       "      <th></th>\n",
       "    </tr>\n",
       "  </thead>\n",
       "  <tbody>\n",
       "    <tr>\n",
       "      <th>3.0</th>\n",
       "      <td>576</td>\n",
       "      <td>0.001047</td>\n",
       "    </tr>\n",
       "    <tr>\n",
       "      <th>5.0</th>\n",
       "      <td>570</td>\n",
       "      <td>0.001036</td>\n",
       "    </tr>\n",
       "    <tr>\n",
       "      <th>4.0</th>\n",
       "      <td>569</td>\n",
       "      <td>0.001034</td>\n",
       "    </tr>\n",
       "    <tr>\n",
       "      <th>7.0</th>\n",
       "      <td>563</td>\n",
       "      <td>0.001023</td>\n",
       "    </tr>\n",
       "    <tr>\n",
       "      <th>8.0</th>\n",
       "      <td>551</td>\n",
       "      <td>0.001001</td>\n",
       "    </tr>\n",
       "    <tr>\n",
       "      <th>2.0</th>\n",
       "      <td>546</td>\n",
       "      <td>0.000992</td>\n",
       "    </tr>\n",
       "    <tr>\n",
       "      <th>10.0</th>\n",
       "      <td>546</td>\n",
       "      <td>0.000992</td>\n",
       "    </tr>\n",
       "    <tr>\n",
       "      <th>1.0</th>\n",
       "      <td>535</td>\n",
       "      <td>0.000972</td>\n",
       "    </tr>\n",
       "    <tr>\n",
       "      <th>9.0</th>\n",
       "      <td>532</td>\n",
       "      <td>0.000967</td>\n",
       "    </tr>\n",
       "    <tr>\n",
       "      <th>6.0</th>\n",
       "      <td>516</td>\n",
       "      <td>0.000937</td>\n",
       "    </tr>\n",
       "  </tbody>\n",
       "</table>\n",
       "</div>"
      ],
      "text/plain": [
       "           Customers   percent\n",
       "city_code                     \n",
       "3.0              576  0.001047\n",
       "5.0              570  0.001036\n",
       "4.0              569  0.001034\n",
       "7.0              563  0.001023\n",
       "8.0              551  0.001001\n",
       "2.0              546  0.000992\n",
       "10.0             546  0.000992\n",
       "1.0              535  0.000972\n",
       "9.0              532  0.000967\n",
       "6.0              516  0.000937"
      ]
     },
     "execution_count": 379,
     "metadata": {},
     "output_type": "execute_result"
    }
   ],
   "source": [
    "City_wise.sort_values(by=['Customers'], ascending= False)"
   ]
  },
  {
   "cell_type": "markdown",
   "id": "c77b41c3-5d7b-457a-9662-531840df7e01",
   "metadata": {},
   "source": [
    "7. Which store type sells the max. products by values and by quatity."
   ]
  },
  {
   "cell_type": "code",
   "execution_count": 380,
   "id": "645c5ae7-b217-46c9-b057-9b53083fac25",
   "metadata": {},
   "outputs": [
    {
     "data": {
      "text/plain": [
       "Index(['transaction_id', 'cust_id', 'tran_date', 'prod_subcat_code',\n",
       "       'prod_cat_code', 'Qty', 'Rate', 'Tax', 'total_amt', 'Store_type', 'DOB',\n",
       "       'Gender', 'city_code', 'prod_cat', 'prod_subcat'],\n",
       "      dtype='object')"
      ]
     },
     "execution_count": 380,
     "metadata": {},
     "output_type": "execute_result"
    }
   ],
   "source": [
    "Customer_Final.columns"
   ]
  },
  {
   "cell_type": "code",
   "execution_count": 381,
   "id": "674fa1db-dbb2-49be-ae4f-d8bdb0331599",
   "metadata": {},
   "outputs": [],
   "source": [
    "Storetype_df = Customer_Final.groupby(by=['Store_type']).agg(Total_Amount = ('total_amt',np.sum), Total_Qty = ('Qty',np.sum))"
   ]
  },
  {
   "cell_type": "code",
   "execution_count": 382,
   "id": "ab6dae44-b802-47aa-892e-e493c424811c",
   "metadata": {},
   "outputs": [
    {
     "data": {
      "text/html": [
       "<div>\n",
       "<style scoped>\n",
       "    .dataframe tbody tr th:only-of-type {\n",
       "        vertical-align: middle;\n",
       "    }\n",
       "\n",
       "    .dataframe tbody tr th {\n",
       "        vertical-align: top;\n",
       "    }\n",
       "\n",
       "    .dataframe thead th {\n",
       "        text-align: right;\n",
       "    }\n",
       "</style>\n",
       "<table border=\"1\" class=\"dataframe\">\n",
       "  <thead>\n",
       "    <tr style=\"text-align: right;\">\n",
       "      <th></th>\n",
       "      <th>Total_Amount</th>\n",
       "      <th>Total_Qty</th>\n",
       "    </tr>\n",
       "    <tr>\n",
       "      <th>Store_type</th>\n",
       "      <th></th>\n",
       "      <th></th>\n",
       "    </tr>\n",
       "  </thead>\n",
       "  <tbody>\n",
       "    <tr>\n",
       "      <th>Flagship store</th>\n",
       "      <td>9.721597e+06</td>\n",
       "      <td>11142</td>\n",
       "    </tr>\n",
       "    <tr>\n",
       "      <th>MBR</th>\n",
       "      <td>9.674941e+06</td>\n",
       "      <td>11195</td>\n",
       "    </tr>\n",
       "    <tr>\n",
       "      <th>TeleShop</th>\n",
       "      <td>9.372134e+06</td>\n",
       "      <td>10993</td>\n",
       "    </tr>\n",
       "    <tr>\n",
       "      <th>e-Shop</th>\n",
       "      <td>1.984262e+07</td>\n",
       "      <td>22790</td>\n",
       "    </tr>\n",
       "  </tbody>\n",
       "</table>\n",
       "</div>"
      ],
      "text/plain": [
       "                Total_Amount  Total_Qty\n",
       "Store_type                             \n",
       "Flagship store  9.721597e+06      11142\n",
       "MBR             9.674941e+06      11195\n",
       "TeleShop        9.372134e+06      10993\n",
       "e-Shop          1.984262e+07      22790"
      ]
     },
     "execution_count": 382,
     "metadata": {},
     "output_type": "execute_result"
    }
   ],
   "source": [
    "Storetype_df"
   ]
  },
  {
   "cell_type": "code",
   "execution_count": 383,
   "id": "6f1f4134-dea2-4e95-b951-b1dd3a082ab9",
   "metadata": {},
   "outputs": [
    {
     "data": {
      "text/html": [
       "<div>\n",
       "<style scoped>\n",
       "    .dataframe tbody tr th:only-of-type {\n",
       "        vertical-align: middle;\n",
       "    }\n",
       "\n",
       "    .dataframe tbody tr th {\n",
       "        vertical-align: top;\n",
       "    }\n",
       "\n",
       "    .dataframe thead th {\n",
       "        text-align: right;\n",
       "    }\n",
       "</style>\n",
       "<table border=\"1\" class=\"dataframe\">\n",
       "  <thead>\n",
       "    <tr style=\"text-align: right;\">\n",
       "      <th></th>\n",
       "      <th>Total_Amount</th>\n",
       "      <th>Total_Qty</th>\n",
       "    </tr>\n",
       "    <tr>\n",
       "      <th>Store_type</th>\n",
       "      <th></th>\n",
       "      <th></th>\n",
       "    </tr>\n",
       "  </thead>\n",
       "  <tbody>\n",
       "    <tr>\n",
       "      <th>e-Shop</th>\n",
       "      <td>1.984262e+07</td>\n",
       "      <td>22790</td>\n",
       "    </tr>\n",
       "    <tr>\n",
       "      <th>Flagship store</th>\n",
       "      <td>9.721597e+06</td>\n",
       "      <td>11142</td>\n",
       "    </tr>\n",
       "    <tr>\n",
       "      <th>MBR</th>\n",
       "      <td>9.674941e+06</td>\n",
       "      <td>11195</td>\n",
       "    </tr>\n",
       "    <tr>\n",
       "      <th>TeleShop</th>\n",
       "      <td>9.372134e+06</td>\n",
       "      <td>10993</td>\n",
       "    </tr>\n",
       "  </tbody>\n",
       "</table>\n",
       "</div>"
      ],
      "text/plain": [
       "                Total_Amount  Total_Qty\n",
       "Store_type                             \n",
       "e-Shop          1.984262e+07      22790\n",
       "Flagship store  9.721597e+06      11142\n",
       "MBR             9.674941e+06      11195\n",
       "TeleShop        9.372134e+06      10993"
      ]
     },
     "execution_count": 383,
     "metadata": {},
     "output_type": "execute_result"
    }
   ],
   "source": [
    "Storetype_df.sort_values(by=['Total_Amount','Total_Qty'], ascending= False)"
   ]
  },
  {
   "cell_type": "markdown",
   "id": "7b0570e9-fbf4-42f9-9647-8fd5f41bbaa4",
   "metadata": {},
   "source": [
    "8. What was the total amount earned from the \"Electronics\" and \"Clothing\" from flgship stores."
   ]
  },
  {
   "cell_type": "code",
   "execution_count": 384,
   "id": "226d61f9-dbc0-4f5b-a459-46cafc3d31bf",
   "metadata": {},
   "outputs": [
    {
     "data": {
      "text/plain": [
       "Index(['transaction_id', 'cust_id', 'tran_date', 'prod_subcat_code',\n",
       "       'prod_cat_code', 'Qty', 'Rate', 'Tax', 'total_amt', 'Store_type', 'DOB',\n",
       "       'Gender', 'city_code', 'prod_cat', 'prod_subcat'],\n",
       "      dtype='object')"
      ]
     },
     "execution_count": 384,
     "metadata": {},
     "output_type": "execute_result"
    }
   ],
   "source": [
    "Customer_Final.columns"
   ]
  },
  {
   "cell_type": "code",
   "execution_count": 385,
   "id": "ef78f681-b502-4d8b-b8ec-664bebee41b3",
   "metadata": {},
   "outputs": [],
   "source": [
    "Flagship_df = Customer_Final.loc[(Customer_Final['Store_type'] == 'Flagship store') & (Customer_Final['prod_cat'].isin(['Electronics','Clothing'])),['Store_type','prod_cat','total_amt']]"
   ]
  },
  {
   "cell_type": "code",
   "execution_count": 386,
   "id": "0b643131-beb3-47d0-a1ba-bfd5937c3cd3",
   "metadata": {},
   "outputs": [
    {
     "data": {
      "text/plain": [
       "3409559.27"
      ]
     },
     "execution_count": 386,
     "metadata": {},
     "output_type": "execute_result"
    }
   ],
   "source": [
    "Flagship_df['total_amt'].sum()"
   ]
  },
  {
   "cell_type": "markdown",
   "id": "91b51884-a7ab-4ee4-9f09-c98cadbe9fbd",
   "metadata": {},
   "source": [
    "9. What was the total amount earned from male under \"Electronics\" category."
   ]
  },
  {
   "cell_type": "code",
   "execution_count": 387,
   "id": "22c55bd6-bcb1-4d87-9c32-053dfa646093",
   "metadata": {},
   "outputs": [],
   "source": [
    "Male_electronic_amt = Customer_Final.loc[(Customer_Final['Gender'] == 'M') & (Customer_Final['prod_cat'] == 'Electronics'), ['total_amt']].sum()"
   ]
  },
  {
   "cell_type": "code",
   "execution_count": 388,
   "id": "a17f5d2c-1611-4a97-b963-90c0e0151348",
   "metadata": {},
   "outputs": [
    {
     "data": {
      "text/plain": [
       "total_amt    5711351.62\n",
       "dtype: float64"
      ]
     },
     "execution_count": 388,
     "metadata": {},
     "output_type": "execute_result"
    }
   ],
   "source": [
    "Male_electronic_amt"
   ]
  },
  {
   "cell_type": "markdown",
   "id": "37aa13d1-1179-4749-8337-07da4eb32546",
   "metadata": {},
   "source": [
    "10. How many Customers have more than 10 unique transactions, after removing all negative transactions."
   ]
  },
  {
   "cell_type": "code",
   "execution_count": 389,
   "id": "05bddbcc-1586-4c20-b736-f62b5f106874",
   "metadata": {},
   "outputs": [],
   "source": [
    "Customer_df = Customer_Final.loc[(Customer_Final['total_amt']>0),['cust_id','total_amt','transaction_id']]"
   ]
  },
  {
   "cell_type": "code",
   "execution_count": 390,
   "id": "6442cd61-609e-4df5-b661-aa954e40a016",
   "metadata": {},
   "outputs": [],
   "source": [
    "Tran_df = Customer_df.groupby(by='cust_id').agg(Cnt_positive_tran = ('transaction_id','nunique'))"
   ]
  },
  {
   "cell_type": "code",
   "execution_count": 391,
   "id": "64965f1d-0e12-4b33-946c-a0db0bae8e45",
   "metadata": {},
   "outputs": [
    {
     "data": {
      "text/html": [
       "<div>\n",
       "<style scoped>\n",
       "    .dataframe tbody tr th:only-of-type {\n",
       "        vertical-align: middle;\n",
       "    }\n",
       "\n",
       "    .dataframe tbody tr th {\n",
       "        vertical-align: top;\n",
       "    }\n",
       "\n",
       "    .dataframe thead th {\n",
       "        text-align: right;\n",
       "    }\n",
       "</style>\n",
       "<table border=\"1\" class=\"dataframe\">\n",
       "  <thead>\n",
       "    <tr style=\"text-align: right;\">\n",
       "      <th></th>\n",
       "      <th>Cnt_positive_tran</th>\n",
       "    </tr>\n",
       "    <tr>\n",
       "      <th>cust_id</th>\n",
       "      <th></th>\n",
       "    </tr>\n",
       "  </thead>\n",
       "  <tbody>\n",
       "    <tr>\n",
       "      <th>266794</th>\n",
       "      <td>11</td>\n",
       "    </tr>\n",
       "    <tr>\n",
       "      <th>270535</th>\n",
       "      <td>11</td>\n",
       "    </tr>\n",
       "    <tr>\n",
       "      <th>270803</th>\n",
       "      <td>11</td>\n",
       "    </tr>\n",
       "    <tr>\n",
       "      <th>272741</th>\n",
       "      <td>11</td>\n",
       "    </tr>\n",
       "    <tr>\n",
       "      <th>273014</th>\n",
       "      <td>11</td>\n",
       "    </tr>\n",
       "    <tr>\n",
       "      <th>274227</th>\n",
       "      <td>11</td>\n",
       "    </tr>\n",
       "  </tbody>\n",
       "</table>\n",
       "</div>"
      ],
      "text/plain": [
       "         Cnt_positive_tran\n",
       "cust_id                   \n",
       "266794                  11\n",
       "270535                  11\n",
       "270803                  11\n",
       "272741                  11\n",
       "273014                  11\n",
       "274227                  11"
      ]
     },
     "execution_count": 391,
     "metadata": {},
     "output_type": "execute_result"
    }
   ],
   "source": [
    "Tran_df[Tran_df.values>10]"
   ]
  },
  {
   "cell_type": "markdown",
   "id": "13ad6ea1-e061-4df2-a1fb-1940149d0e55",
   "metadata": {},
   "source": [
    "11. For all Customers aged between 25 - 35\n",
    "    (i) Total amount spend for electronics and books.\n",
    "    (ii) Total amount spend between 1st January 2014 to 1st March 2014."
   ]
  },
  {
   "cell_type": "code",
   "execution_count": 392,
   "id": "83f3e0eb-8c06-4d15-a04e-d3988d649fe5",
   "metadata": {},
   "outputs": [
    {
     "data": {
      "text/plain": [
       "Index(['transaction_id', 'cust_id', 'tran_date', 'prod_subcat_code',\n",
       "       'prod_cat_code', 'Qty', 'Rate', 'Tax', 'total_amt', 'Store_type', 'DOB',\n",
       "       'Gender', 'city_code', 'prod_cat', 'prod_subcat'],\n",
       "      dtype='object')"
      ]
     },
     "execution_count": 392,
     "metadata": {},
     "output_type": "execute_result"
    }
   ],
   "source": [
    "Customer_Final.columns"
   ]
  },
  {
   "cell_type": "code",
   "execution_count": 393,
   "id": "8f43674f-4a6f-436a-8bc3-05c9c064030b",
   "metadata": {},
   "outputs": [],
   "source": [
    "Customer_Final['age'] = round((Customer_Final['tran_date'] - Customer_Final['DOB']).dt.days/365.25,2)"
   ]
  },
  {
   "cell_type": "code",
   "execution_count": 396,
   "id": "d4e57d1d-a35d-4ead-896b-30bb810a0932",
   "metadata": {},
   "outputs": [],
   "source": [
    "Total_amt_df = Customer_Final.loc[(Customer_Final['prod_cat'].isin(['Electronics','Books'])) & (Customer_Final['age']>=25) & (Customer_Final['age']<=35), ['total_amt','prod_cat','age']]"
   ]
  },
  {
   "cell_type": "code",
   "execution_count": 401,
   "id": "0c30748e-1fd9-476e-bbc0-9d0d7a54c01e",
   "metadata": {},
   "outputs": [
    {
     "data": {
      "text/plain": [
       "48611294.81"
      ]
     },
     "execution_count": 401,
     "metadata": {},
     "output_type": "execute_result"
    }
   ],
   "source": [
    "Customer_Final['total_amt'].sum()"
   ]
  },
  {
   "cell_type": "code",
   "execution_count": 399,
   "id": "7693ea68-9021-4f74-a865-b123a0a53fba",
   "metadata": {},
   "outputs": [],
   "source": [
    "Spend_q4 = Customer_Final.loc[(Customer_Final['age'].between(25,35)) & (Customer_Final['tran_date'].between('2014-01-01','2014-03-01')),['total_amt']]"
   ]
  },
  {
   "cell_type": "code",
   "execution_count": 400,
   "id": "ddec136b-2b68-4463-8d32-ddb5d2003bb6",
   "metadata": {},
   "outputs": [
    {
     "data": {
      "text/plain": [
       "995938.71"
      ]
     },
     "execution_count": 400,
     "metadata": {},
     "output_type": "execute_result"
    }
   ],
   "source": [
    "Spend_q4.values.sum()"
   ]
  },
  {
   "cell_type": "code",
   "execution_count": null,
   "id": "1947a047-299e-4320-b86d-6c494efac74e",
   "metadata": {},
   "outputs": [],
   "source": []
  },
  {
   "cell_type": "code",
   "execution_count": null,
   "id": "1b9e0f7e-2669-4236-ad20-8f5d2b7baf13",
   "metadata": {},
   "outputs": [],
   "source": []
  }
 ],
 "metadata": {
  "kernelspec": {
   "display_name": "Python 3 (ipykernel)",
   "language": "python",
   "name": "python3"
  },
  "language_info": {
   "codemirror_mode": {
    "name": "ipython",
    "version": 3
   },
   "file_extension": ".py",
   "mimetype": "text/x-python",
   "name": "python",
   "nbconvert_exporter": "python",
   "pygments_lexer": "ipython3",
   "version": "3.12.7"
  }
 },
 "nbformat": 4,
 "nbformat_minor": 5
}
